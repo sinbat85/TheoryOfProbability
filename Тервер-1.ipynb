{
 "cells": [
  {
   "cell_type": "markdown",
   "id": "c04fb40b",
   "metadata": {},
   "source": [
    "## Задача 1"
   ]
  },
  {
   "cell_type": "code",
   "execution_count": 19,
   "id": "4d3a34d2",
   "metadata": {},
   "outputs": [
    {
     "data": {
      "text/plain": [
       "210"
      ]
     },
     "execution_count": 19,
     "metadata": {},
     "output_type": "execute_result"
    }
   ],
   "source": [
    "from math import factorial\n",
    "def combinations(n, k):\n",
    "    return int(factorial(n) / (factorial(k) * factorial(n - k)))\n",
    "\n",
    "combinations(10, 4)"
   ]
  },
  {
   "cell_type": "code",
   "execution_count": null,
   "id": "d706ebf1",
   "metadata": {},
   "outputs": [],
   "source": []
  },
  {
   "cell_type": "markdown",
   "id": "918e8fc1",
   "metadata": {},
   "source": [
    "## Задача 2"
   ]
  },
  {
   "cell_type": "code",
   "execution_count": 14,
   "id": "5bfbf88d",
   "metadata": {},
   "outputs": [
    {
     "data": {
      "text/plain": [
       "69184"
      ]
     },
     "execution_count": 14,
     "metadata": {},
     "output_type": "execute_result"
    }
   ],
   "source": [
    "from math import factorial\n",
    "def combinations(n, k):\n",
    "    return int(factorial(n) / (factorial(k) * factorial(n - k)))\n",
    "\n",
    "combinations(4, 1) * combinations(48, 3) "
   ]
  },
  {
   "cell_type": "code",
   "execution_count": null,
   "id": "4a5f1364",
   "metadata": {},
   "outputs": [],
   "source": []
  },
  {
   "cell_type": "markdown",
   "id": "aba979a8",
   "metadata": {},
   "source": [
    "## Задача 3"
   ]
  },
  {
   "cell_type": "code",
   "execution_count": 28,
   "id": "9f457b03",
   "metadata": {},
   "outputs": [
    {
     "data": {
      "text/plain": [
       "0.2857142857142857"
      ]
     },
     "execution_count": 28,
     "metadata": {},
     "output_type": "execute_result"
    }
   ],
   "source": [
    "from math import factorial\n",
    "def probability(m, n):\n",
    "    return float(((m-1) * factorial(n) * factorial(m - n)) / factorial(m))\n",
    "#Всего вариантов  P(7) = 7! = 5040\n",
    "\n",
    "#Хороших вариантов  - 6 ( 12-23-34-45-56-67 ) * 2!*5! (в любом порядке) = 1440\n",
    "\n",
    "#Вероятность равна \n",
    "probability(7, 2)\n",
    "#1440/5040"
   ]
  },
  {
   "cell_type": "markdown",
   "id": "2619060b",
   "metadata": {},
   "source": [
    "## Задача 4"
   ]
  },
  {
   "cell_type": "code",
   "execution_count": 33,
   "id": "639e8e72",
   "metadata": {},
   "outputs": [
    {
     "data": {
      "text/plain": [
       "4.2244725515052874e-07"
      ]
     },
     "execution_count": 33,
     "metadata": {},
     "output_type": "execute_result"
    }
   ],
   "source": [
    "from math import factorial\n",
    "def combinations(n, k):\n",
    "    return int(factorial(n) / (factorial(k) * factorial(n - k)))\n",
    "\n",
    "(combinations(50, 3) + combinations(50, 2)*combinations(10, 1)) / combinations(60, 50)"
   ]
  },
  {
   "cell_type": "markdown",
   "id": "d8f541e5",
   "metadata": {},
   "source": [
    "## Задача 5"
   ]
  }
 ],
 "metadata": {
  "kernelspec": {
   "display_name": "Python 3",
   "language": "python",
   "name": "python3"
  },
  "language_info": {
   "codemirror_mode": {
    "name": "ipython",
    "version": 3
   },
   "file_extension": ".py",
   "mimetype": "text/x-python",
   "name": "python",
   "nbconvert_exporter": "python",
   "pygments_lexer": "ipython3",
   "version": "3.8.5"
  }
 },
 "nbformat": 4,
 "nbformat_minor": 5
}
